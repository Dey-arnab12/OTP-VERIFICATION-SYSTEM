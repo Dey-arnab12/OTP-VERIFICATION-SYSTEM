{
  "nbformat": 4,
  "nbformat_minor": 0,
  "metadata": {
    "colab": {
      "provenance": []
    },
    "kernelspec": {
      "name": "python3",
      "display_name": "Python 3"
    },
    "language_info": {
      "name": "python"
    }
  },
  "cells": [
    {
      "cell_type": "code",
      "execution_count": null,
      "metadata": {
        "id": "CJqegauudRvf"
      },
      "outputs": [],
      "source": [
        "import random\n",
        "def otp_generator():\n",
        "  otp = random.randint(100000,999999)\n",
        "  return otp\n",
        "\n"
      ]
    },
    {
      "cell_type": "code",
      "source": [
        "otp_generator()\n",
        "\n",
        "generated_otp = otp_generator()\n",
        "global generated_otp"
      ],
      "metadata": {
        "id": "LAv3k4LvjKpL"
      },
      "execution_count": null,
      "outputs": []
    },
    {
      "cell_type": "markdown",
      "source": [],
      "metadata": {
        "id": "fQ9gFW47kcq6"
      }
    },
    {
      "cell_type": "code",
      "source": [
        "def email():\n",
        "  global generated_otp\n",
        "  generated_otp = otp_generator()\n",
        "  email = input(\"Enter your email address :\")\n",
        "  print(\"Your one time password is here\")\n",
        "  print(f\"To verify your please enter this OTP {generated_otp}\")"
      ],
      "metadata": {
        "id": "gocdBxIsd1qb"
      },
      "execution_count": null,
      "outputs": []
    },
    {
      "cell_type": "code",
      "source": [
        "email()"
      ],
      "metadata": {
        "colab": {
          "base_uri": "https://localhost:8080/"
        },
        "id": "Kt25Zeecfvnb",
        "outputId": "b6f2fa01-260b-4184-9e0c-2ac8ce90400b"
      },
      "execution_count": null,
      "outputs": [
        {
          "output_type": "stream",
          "name": "stdout",
          "text": [
            "Enter your email address :lk\n",
            "Your one time password is here\n",
            "To verify your please enter this OTP 135698\n"
          ]
        }
      ]
    },
    {
      "cell_type": "code",
      "source": [
        "def verify_otp():#main function\n",
        "  email()#calling the email function\n",
        "  user = int(input(\"Enter your password :\"))#prompting user to enter the password\n",
        "\n",
        "  if user <100000 or user >999999:\n",
        "    print(\"Invalid\")\n",
        "\n",
        "  elif user ==  generated_otp:\n",
        "    print(\"Authentication commpleted\")\n",
        "\n",
        "  else :\n",
        "    print(\"Incorrect\")"
      ],
      "metadata": {
        "id": "knzhcIsveu3b"
      },
      "execution_count": null,
      "outputs": []
    },
    {
      "cell_type": "code",
      "source": [
        "verify_otp()"
      ],
      "metadata": {
        "colab": {
          "base_uri": "https://localhost:8080/"
        },
        "collapsed": true,
        "id": "Kwz9E5UTgfp0",
        "outputId": "be97595c-a4e5-45c6-bea2-d25660cebf82"
      },
      "execution_count": null,
      "outputs": [
        {
          "output_type": "stream",
          "name": "stdout",
          "text": [
            "Enter your email address :hu\n",
            "Your one time password is here\n",
            "To verify your please enter this OTP 540658\n",
            "Enter your password :540658\n",
            "Authentication commpleted\n"
          ]
        }
      ]
    }
  ]
}